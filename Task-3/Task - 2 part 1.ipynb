{
 "cells": [
  {
   "cell_type": "markdown",
   "metadata": {},
   "source": [
    "# Data Cleaning and Exploratory Data Analysis\n",
    "\n",
    "* By - Gautam Sharma"
   ]
  },
  {
   "cell_type": "markdown",
   "metadata": {},
   "source": [
    "# Import all required libraries"
   ]
  },
  {
   "cell_type": "code",
   "execution_count": null,
   "metadata": {},
   "outputs": [],
   "source": [
    "import pandas as pd\n",
    "!pip install missingno\n",
    "import missingno as msno\n",
    "import matplotlib.pyplot as plt\n",
    "import seaborn as sns\n",
    "import numpy as np\n",
    "from scipy.stats import zscore as zscore\n"
   ]
  },
  {
   "cell_type": "markdown",
   "metadata": {},
   "source": [
    "# Data importing"
   ]
  },
  {
   "cell_type": "code",
   "execution_count": null,
   "metadata": {},
   "outputs": [],
   "source": [
    " data_lst = ['date_activ', 'date_end','date_first_activ','date_modif_prod', 'date_renewal']"
   ]
  },
  {
   "cell_type": "code",
   "execution_count": null,
   "metadata": {},
   "outputs": [],
   "source": [
    "data_main = pd.read_csv('ml_case_training_data.csv', parse_dates=data_lst)\n",
    "data_hist = pd.read_csv('ml_case_training_hist_data.csv', parse_dates=['price_date'])\n",
    "data_output = pd.read_csv('ml_case_training_output.csv')"
   ]
  },
  {
   "cell_type": "code",
   "execution_count": null,
   "metadata": {},
   "outputs": [],
   "source": [
    "pd.set_option('display.max_columns', None)"
   ]
  },
  {
   "cell_type": "code",
   "execution_count": null,
   "metadata": {},
   "outputs": [],
   "source": [
    "data_main.head()"
   ]
  },
  {
   "cell_type": "markdown",
   "metadata": {},
   "source": [
    "# I . Data Exploration\n",
    "## The Output Dataset\n",
    "* From thr output dataset we can derive a quick insights on customer retention."
   ]
  },
  {
   "cell_type": "code",
   "execution_count": null,
   "metadata": {},
   "outputs": [],
   "source": [
    "# Replace the churn columns\n",
    "data_output['churn'] = data_output['churn'].replace({0:'Stayed',1:'Churned'})"
   ]
  },
  {
   "cell_type": "code",
   "execution_count": null,
   "metadata": {},
   "outputs": [],
   "source": [
    "data_output.head(5)"
   ]
  },
  {
   "cell_type": "code",
   "execution_count": null,
   "metadata": {},
   "outputs": [],
   "source": [
    "# What number of customers have  churned in the last 3 moths\n",
    "attrition_count = data_output['churn'].value_counts()\n",
    "print('Total number of churned customer : \\n ', attrition_count)"
   ]
  },
  {
   "cell_type": "markdown",
   "metadata": {},
   "source": [
    "* Last 3 moths 1595 customer have churned \n",
    "* currently 14501 actively client"
   ]
  },
  {
   "cell_type": "code",
   "execution_count": null,
   "metadata": {},
   "outputs": [],
   "source": [
    "# Proportionof customer attrition in the last 3 months\n",
    "attrition_rate = data_output['churn'].value_counts() / data_output.shape[0] * 100\n",
    "\n",
    "print('Attrition rates in last 3 months: \\n', attrition_rate)"
   ]
  },
  {
   "cell_type": "markdown",
   "metadata": {},
   "source": [
    "* customer retenction in last 3 months 90.09%\n",
    "* Customer attrition is 10 % in the last 3 months"
   ]
  },
  {
   "cell_type": "markdown",
   "metadata": {},
   "source": [
    "# The History Dataset"
   ]
  },
  {
   "cell_type": "code",
   "execution_count": null,
   "metadata": {},
   "outputs": [],
   "source": [
    "data_hist.head(5)"
   ]
  },
  {
   "cell_type": "code",
   "execution_count": null,
   "metadata": {},
   "outputs": [],
   "source": [
    "data_hist1 = data_hist[['id','price_date']]"
   ]
  },
  {
   "cell_type": "code",
   "execution_count": null,
   "metadata": {},
   "outputs": [],
   "source": [
    "data_hist1.head(5)"
   ]
  },
  {
   "cell_type": "code",
   "execution_count": null,
   "metadata": {},
   "outputs": [],
   "source": [
    "# Examine the hist_data\n",
    "data_hist1.info()"
   ]
  },
  {
   "cell_type": "code",
   "execution_count": null,
   "metadata": {},
   "outputs": [],
   "source": [
    "data_hist.info()"
   ]
  },
  {
   "cell_type": "code",
   "execution_count": null,
   "metadata": {},
   "outputs": [],
   "source": [
    "data_hist.describe()"
   ]
  },
  {
   "cell_type": "code",
   "execution_count": null,
   "metadata": {},
   "outputs": [],
   "source": [
    "# Identify the nylity of the DataFrame\n",
    "missing_values_hist = data_hist.isnull().sum()\n",
    "print('Total missing data in data_hist: \\n',missing_values_hist)"
   ]
  },
  {
   "cell_type": "code",
   "execution_count": null,
   "metadata": {},
   "outputs": [],
   "source": [
    "# Identify the percentage of nullity in the dataframe for each column\n",
    "missing_values_hist_per = data_hist.isnull().mean() * 100\n",
    "print('The Total percentage of missing values: \\n', missing_values_hist_per)"
   ]
  },
  {
   "cell_type": "markdown",
   "metadata": {},
   "source": [
    "# The main Dataset"
   ]
  },
  {
   "cell_type": "code",
   "execution_count": null,
   "metadata": {},
   "outputs": [],
   "source": [
    "data_main.head(5)"
   ]
  },
  {
   "cell_type": "markdown",
   "metadata": {},
   "source": [
    "* The dataset contain more characteristics about each client'a account and activity."
   ]
  },
  {
   "cell_type": "code",
   "execution_count": null,
   "metadata": {},
   "outputs": [],
   "source": [
    "data_main.info()"
   ]
  },
  {
   "cell_type": "code",
   "execution_count": null,
   "metadata": {},
   "outputs": [],
   "source": [
    "# Identify the percentage of nullity in the dataframe for each columns\n",
    "missing_values_main_par = data_main.isnull().mean() * 100\n",
    "print('Percentage of Missing values: \\n', missing_values_main_par)"
   ]
  },
  {
   "cell_type": "code",
   "execution_count": null,
   "metadata": {},
   "outputs": [],
   "source": [
    "# Examine the statistics of main dataset \n",
    "data_main.describe()"
   ]
  },
  {
   "cell_type": "markdown",
   "metadata": {},
   "source": [
    "* The average net margin is $ 217\n",
    "* The average num_years_antig is 5 years\n"
   ]
  },
  {
   "cell_type": "markdown",
   "metadata": {},
   "source": [
    "# II. Data Cleaning and Imputation"
   ]
  },
  {
   "cell_type": "markdown",
   "metadata": {},
   "source": [
    "* Here we dealing with missing dta and workflow for treating missing values"
   ]
  },
  {
   "cell_type": "markdown",
   "metadata": {},
   "source": [
    "# The History Dataset"
   ]
  },
  {
   "cell_type": "code",
   "execution_count": null,
   "metadata": {},
   "outputs": [],
   "source": [
    "data_hist.head(2)"
   ]
  },
  {
   "cell_type": "code",
   "execution_count": null,
   "metadata": {},
   "outputs": [],
   "source": [
    "# Indentify the negative columns \n",
    "negative_col = ['price_p1_fix','price_p2_fix','price_p3_fix']"
   ]
  },
  {
   "cell_type": "code",
   "execution_count": null,
   "metadata": {},
   "outputs": [],
   "source": [
    "data_hist[negative_col] = data_hist[negative_col].apply(abs)\n"
   ]
  },
  {
   "cell_type": "code",
   "execution_count": null,
   "metadata": {},
   "outputs": [],
   "source": [
    "data_hist.describe()"
   ]
  },
  {
   "cell_type": "markdown",
   "metadata": {},
   "source": [
    "## Visualizing the amount of missingness"
   ]
  },
  {
   "cell_type": "code",
   "execution_count": null,
   "metadata": {},
   "outputs": [],
   "source": [
    "# Visualizethe completeness of the data frame\n",
    "msno.bar(data_hist)"
   ]
  },
  {
   "cell_type": "markdown",
   "metadata": {},
   "source": [
    "**As i see the data we absorb no data is missing but after the the imputation , we estimated that 0.7 % of data is missing**"
   ]
  },
  {
   "cell_type": "code",
   "execution_count": null,
   "metadata": {},
   "outputs": [],
   "source": [
    "# Visua;ize the locations of the missing values of the dataset \n",
    "sorted = data_hist.sort_values(by = ['id', 'price_date'])\n",
    "msno.matrix(sorted)"
   ]
  },
  {
   "cell_type": "code",
   "execution_count": null,
   "metadata": {},
   "outputs": [],
   "source": [
    "# Visualize the correlation between the numeric variables of the Dataframe\n",
    "msno.heatmap(data_hist)"
   ]
  },
  {
   "cell_type": "code",
   "execution_count": null,
   "metadata": {},
   "outputs": [],
   "source": [
    "# Identify the index of the IDs containing missing values\n",
    "hist_NAN_index = data_hist[data_hist.isnull().any(axis=1)].index.values.tolist()"
   ]
  },
  {
   "cell_type": "code",
   "execution_count": null,
   "metadata": {},
   "outputs": [],
   "source": [
    "# Obtain the Dataframe with missing values\n",
    "data_hist_missing = data_hist.iloc[hist_NAN_index,:]"
   ]
  },
  {
   "cell_type": "code",
   "execution_count": null,
   "metadata": {},
   "outputs": [],
   "source": [
    "data_hist_missing.head(5)"
   ]
  },
  {
   "cell_type": "code",
   "execution_count": null,
   "metadata": {},
   "outputs": [],
   "source": [
    "# Extract the unique dates of missing date\n",
    "date_1st = data_hist_missing['price_date'].unique()\n",
    "id_lst = data_hist_missing['id'].unique()"
   ]
  },
  {
   "cell_type": "code",
   "execution_count": null,
   "metadata": {},
   "outputs": [],
   "source": [
    "# Create a time dataframe with the unique dates\n",
    "time_data = pd.DataFrame(data=date_1st, columns=['price_date'])"
   ]
  },
  {
   "cell_type": "code",
   "execution_count": null,
   "metadata": {},
   "outputs": [],
   "source": [
    "time_data.head(5)"
   ]
  },
  {
   "cell_type": "markdown",
   "metadata": {},
   "source": [
    "* there are 1359 clients who are missing price data at least in 1 months\n",
    "\n",
    "* There is hogh correlation between the missingness in the numeric and is values, missing or non-missing."
   ]
  },
  {
   "cell_type": "markdown",
   "metadata": {},
   "source": [
    "# Time series Data "
   ]
  },
  {
   "cell_type": "code",
   "execution_count": null,
   "metadata": {},
   "outputs": [],
   "source": [
    "# Make a copy of Data_hist dataset\n",
    "data_hist_ff = data_hist.copy(deep=True)"
   ]
  },
  {
   "cell_type": "code",
   "execution_count": null,
   "metadata": {},
   "outputs": [],
   "source": [
    "# Print prior to imputing missing values\n",
    "print(data_hist_ff.iloc[hist_NAN_index,3:9].head())"
   ]
  },
  {
   "cell_type": "code",
   "execution_count": null,
   "metadata": {},
   "outputs": [],
   "source": [
    "# FIll NAN using forward fill\n",
    "data_hist_ff.fillna(method='ffill', inplace=True)"
   ]
  },
  {
   "cell_type": "code",
   "execution_count": null,
   "metadata": {},
   "outputs": [],
   "source": [
    "print(data_hist_ff.iloc[hist_NAN_index,3:9].head(5))"
   ]
  },
  {
   "cell_type": "code",
   "execution_count": null,
   "metadata": {},
   "outputs": [],
   "source": [
    "data_hist_ff.describe()"
   ]
  },
  {
   "cell_type": "code",
   "execution_count": null,
   "metadata": {},
   "outputs": [],
   "source": [
    "# Merger output dataset with historical forwARD FILL DATASET\n",
    "data_hist_ff_merged = data_hist_ff.merge(right=data_output, on=['id'])"
   ]
  },
  {
   "cell_type": "code",
   "execution_count": null,
   "metadata": {},
   "outputs": [],
   "source": [
    "data_hist_ff_merged.head(5)"
   ]
  },
  {
   "cell_type": "markdown",
   "metadata": {},
   "source": [
    "# The Main Dataset\n",
    "**Visualizing the amountof missingness**"
   ]
  },
  {
   "cell_type": "code",
   "execution_count": null,
   "metadata": {},
   "outputs": [],
   "source": [
    "# Visualize the completeness of the dataframe\n",
    "msno.bar(data_main)"
   ]
  },
  {
   "cell_type": "code",
   "execution_count": null,
   "metadata": {},
   "outputs": [],
   "source": [
    "# Visualize the locations of missing data\n",
    "msno.matrix(data_main)"
   ]
  },
  {
   "cell_type": "code",
   "execution_count": null,
   "metadata": {},
   "outputs": [],
   "source": [
    "sorted_main = data_main.sort_values('date_first_activ')"
   ]
  },
  {
   "cell_type": "code",
   "execution_count": null,
   "metadata": {},
   "outputs": [],
   "source": [
    "msno.matrix(sorted_main)"
   ]
  },
  {
   "cell_type": "code",
   "execution_count": null,
   "metadata": {},
   "outputs": [],
   "source": [
    "msno.heatmap(data_main)"
   ]
  },
  {
   "cell_type": "code",
   "execution_count": null,
   "metadata": {},
   "outputs": [],
   "source": [
    "# Demonstrate why the date_activ column cannot replace completely date_first_activ\n",
    "activity = ['date_activ','date_first_activ']"
   ]
  },
  {
   "cell_type": "code",
   "execution_count": null,
   "metadata": {},
   "outputs": [],
   "source": [
    "# Filter the columns of interest\n",
    "data_activity = data_main[activity]"
   ]
  },
  {
   "cell_type": "code",
   "execution_count": null,
   "metadata": {},
   "outputs": [],
   "source": [
    "# Obtain only the complete interest\n",
    "data_activity_cc = data_activity.dropna(subset=['date_first_activ'],how='any',inplace=False)"
   ]
  },
  {
   "cell_type": "code",
   "execution_count": null,
   "metadata": {},
   "outputs": [],
   "source": [
    "# Test wether two objects contain the same elements\n",
    "data_activity_cc.date_activ.equals(data_activity_cc.date_first_activ)"
   ]
  },
  {
   "cell_type": "code",
   "execution_count": null,
   "metadata": {},
   "outputs": [],
   "source": [
    "# Describe the data\n",
    "data_activity_cc.describe(datetime_is_numeric=True)"
   ]
  },
  {
   "cell_type": "code",
   "execution_count": null,
   "metadata": {},
   "outputs": [],
   "source": [
    "# Drop the column activity_new and campaign_disc_elec\n",
    "data_main_drop = data_main.drop(labels=['activity_new', 'campaign_disc_ele'],axis=1)"
   ]
  },
  {
   "cell_type": "code",
   "execution_count": null,
   "metadata": {},
   "outputs": [],
   "source": [
    "# Remove date_end date_modif_prod date_renewal origin_up pow_max margin_gross_pow_ele margin_net_pow_ele net_margin\n",
    "brush = ['date_end','date_modif_prod','date_renewal','origin_up','pow_max','margin_gross_pow_ele','margin_net_pow_ele', 'net_margin','forecast_discount_energy','forecast_price_energy_p1','forecast_price_energy_p2','forecast_price_pow_p1']"
   ]
  },
  {
   "cell_type": "code",
   "execution_count": null,
   "metadata": {},
   "outputs": [],
   "source": [
    "data_main_drop.dropna(subset=brush, how='any', inplace=True)"
   ]
  },
  {
   "cell_type": "code",
   "execution_count": null,
   "metadata": {},
   "outputs": [],
   "source": [
    "msno.matrix(data_main_drop)"
   ]
  },
  {
   "cell_type": "code",
   "execution_count": null,
   "metadata": {},
   "outputs": [],
   "source": [
    "# Choose the columns without missing values\n",
    "incomplete_cols = ['channel_sales','date_first_activ','forecast_base_bill_ele','forecast_base_bill_year','forecast_bill_12m','forecast_cons']"
   ]
  },
  {
   "cell_type": "code",
   "execution_count": null,
   "metadata": {},
   "outputs": [],
   "source": [
    "complete_cols = [ column_name for column_name in data_main_drop.columns if column_name not in incomplete_cols]"
   ]
  },
  {
   "cell_type": "code",
   "execution_count": null,
   "metadata": {},
   "outputs": [],
   "source": [
    "data_main_cc = data_main_drop[complete_cols]"
   ]
  },
  {
   "cell_type": "code",
   "execution_count": null,
   "metadata": {},
   "outputs": [],
   "source": [
    "# Fix negative numeric variables\n",
    "numeric = [column_name for column_name in data_main_cc.columns \n",
    "          if data_main_cc[column_name].dtype == 'float64' or data_main_cc[column_name].dtype == 'int64']"
   ]
  },
  {
   "cell_type": "code",
   "execution_count": null,
   "metadata": {},
   "outputs": [],
   "source": [
    "# Overwrite positive values on negative values\n",
    "data_main_cc[numeric] = data_main_cc[numeric].apply(abs)"
   ]
  },
  {
   "cell_type": "code",
   "execution_count": null,
   "metadata": {},
   "outputs": [],
   "source": [
    "# Describe\n",
    "data_main_cc.describe()"
   ]
  },
  {
   "cell_type": "code",
   "execution_count": null,
   "metadata": {},
   "outputs": [],
   "source": [
    "# Convert the has_gas column to Yes/No\n",
    "data_main_cc['has_gas'] = data_main_cc['has_gas'].replace({'t':'Yes', 'f':'No'})"
   ]
  },
  {
   "cell_type": "code",
   "execution_count": null,
   "metadata": {},
   "outputs": [],
   "source": [
    "# Merger the main dataset withthe output dataset\n",
    "data_main_cc_merged = data_main_cc.merge(right=data_output, on=['id'])"
   ]
  },
  {
   "cell_type": "code",
   "execution_count": null,
   "metadata": {},
   "outputs": [],
   "source": [
    "# Convet the churn column to churned or stayed\n",
    "data_main_cc_merged['churn'] = data_main_cc_merged['churn'].replace({1:'Churned',0:'Stayed'})"
   ]
  },
  {
   "cell_type": "code",
   "execution_count": null,
   "metadata": {},
   "outputs": [],
   "source": [
    "data_main_cc_merged.head(5)"
   ]
  },
  {
   "cell_type": "code",
   "execution_count": null,
   "metadata": {},
   "outputs": [],
   "source": [
    "# obtain all the variables except for id \n",
    "variables = [column_name for column_name in data_main_cc_merged.columns if column_name != 'id']"
   ]
  },
  {
   "cell_type": "code",
   "execution_count": null,
   "metadata": {},
   "outputs": [],
   "source": [
    "#Obtain all the categorical variables except for id\n",
    "categorical = [column_name for column_name in variables if data_main_cc_merged[column_name].dtype == 'object']"
   ]
  },
  {
   "cell_type": "code",
   "execution_count": null,
   "metadata": {},
   "outputs": [],
   "source": [
    "# Obtain all the Data Variables\n",
    "dates = [column_name for column_name in variables if data_main_cc_merged[column_name].dtype == 'datetime64[ns]']"
   ]
  },
  {
   "cell_type": "code",
   "execution_count": null,
   "metadata": {},
   "outputs": [],
   "source": [
    "# Obtain all the numeric columns\n",
    "numeric = [column_name for column_name in variables if column_name not in categorical and column_name != 'id' and \n",
    "          column_name != 'churn'\n",
    "          and column_name not in dates]"
   ]
  },
  {
   "cell_type": "markdown",
   "metadata": {},
   "source": [
    "# Data Visualization"
   ]
  },
  {
   "cell_type": "markdown",
   "metadata": {},
   "source": [
    "* Let's visualize what we've found"
   ]
  },
  {
   "cell_type": "code",
   "execution_count": null,
   "metadata": {},
   "outputs": [],
   "source": [
    "# Calculate the zcores of tenure\n",
    "tenure_zcores = zscore(a=data_main_cc_merged['num_years_antig'])"
   ]
  },
  {
   "cell_type": "code",
   "execution_count": null,
   "metadata": {},
   "outputs": [],
   "source": [
    "# Convert to absolute values\n",
    "abs_tenure_zscores = np.abs(tenure_zcores)"
   ]
  },
  {
   "cell_type": "code",
   "execution_count": null,
   "metadata": {},
   "outputs": [],
   "source": [
    "# Extract columns of intrest\n",
    "churn_tenure = data_main_cc_merged[['churn','num_years_antig']]"
   ]
  },
  {
   "cell_type": "code",
   "execution_count": null,
   "metadata": {},
   "outputs": [],
   "source": [
    "# Add z-score column\n",
    "churn_tenure['z_score'] = list(abs_tenure_zscores)"
   ]
  },
  {
   "cell_type": "code",
   "execution_count": null,
   "metadata": {},
   "outputs": [],
   "source": [
    "# Remove outliers\n",
    "churned_tenure_filtered = churn_tenure[churn_tenure['z_score'] < 3]"
   ]
  },
  {
   "cell_type": "code",
   "execution_count": null,
   "metadata": {},
   "outputs": [],
   "source": [
    "# Visualize tenure by retained customer and churner\n",
    "vio = sns.violinplot( y=churned_tenure_filtered[\"churn\"], x=churned_tenure_filtered[\"num_years_antig\"] )\n",
    "vio.set(xlabel = 'years', ylabel='')\n",
    "vio.set_title('Customer Attrition by Tenure')\n",
    "plt.show()"
   ]
  },
  {
   "cell_type": "markdown",
   "metadata": {},
   "source": [
    "* Customer are more likely to churn during the 4th year that the 7th year\n",
    "* The median age of retained customers is 5years\n",
    "* The median age of churners is 4 years\n"
   ]
  },
  {
   "cell_type": "markdown",
   "metadata": {},
   "source": [
    "# The Main Dataset\n"
   ]
  },
  {
   "cell_type": "code",
   "execution_count": null,
   "metadata": {},
   "outputs": [],
   "source": [
    "# Most popular electrivcity cmpaign\n",
    "elec_nm = data_main_cc_merged.loc[(data_main_cc_merged['churn'] >= 'Stayed')& (data_main_cc_merged['net_margin'] > 0), ['id','origin_up', 'net_margin']]"
   ]
  },
  {
   "cell_type": "code",
   "execution_count": null,
   "metadata": {},
   "outputs": [],
   "source": [
    "elec_nm.value_counts(subset = ['origin_up'])"
   ]
  },
  {
   "cell_type": "code",
   "execution_count": null,
   "metadata": {},
   "outputs": [],
   "source": [
    "# Highest netting electricity subscription campaign\n",
    "print(elec_nm.groupby('origin_up')['net_margin'].agg('sum').sort_values(ascending=False))"
   ]
  },
  {
   "cell_type": "code",
   "execution_count": null,
   "metadata": {},
   "outputs": [],
   "source": [
    "# Select current customers with positive net margins\n",
    "top_customers = data_main_cc_merged.loc[(data_main_cc_merged['churn']>='Stayed') & (data_main_cc_merged['net_margin']>0),['id','num_years_antig','net_margin']]\n",
    "\n",
    "# Top 10 customers by net margin\n",
    "top_customers.sort_values(by=['net_margin'],ascending=False).head(10)"
   ]
  },
  {
   "cell_type": "markdown",
   "metadata": {},
   "source": [
    "**These are the most profitable customers for PowerCo in terms of net margin. Beware most of them are within the likely tenure of attrition. Time for a marketing campaign!**"
   ]
  },
  {
   "cell_type": "code",
   "execution_count": null,
   "metadata": {},
   "outputs": [],
   "source": []
  }
 ],
 "metadata": {
  "kernelspec": {
   "display_name": "Python 3",
   "language": "python",
   "name": "python3"
  },
  "language_info": {
   "codemirror_mode": {
    "name": "ipython",
    "version": 3
   },
   "file_extension": ".py",
   "mimetype": "text/x-python",
   "name": "python",
   "nbconvert_exporter": "python",
   "pygments_lexer": "ipython3",
   "version": "3.7.6"
  }
 },
 "nbformat": 4,
 "nbformat_minor": 4
}
